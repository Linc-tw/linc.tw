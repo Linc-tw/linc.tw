{
 "cells": [
  {
   "cell_type": "markdown",
   "metadata": {},
   "source": [
    "# Parameter Inference in Astronomy"
   ]
  },
  {
   "cell_type": "markdown",
   "metadata": {},
   "source": [
    "Below we load some handy libraries for our tutorial and configure a bit to make plots prettier."
   ]
  },
  {
   "cell_type": "code",
   "execution_count": 1,
   "metadata": {},
   "outputs": [],
   "source": [
    "## Import packages\n",
    "import numpy as np\n",
    "import scipy.stats as stats\n",
    "import matplotlib.pyplot as plt\n",
    "\n",
    "## Matplotlib settings\n",
    "plt.rcParams['lines.linewidth'] = 1.5\n",
    "plt.rcParams['font.size'] = 16\n",
    "plt.rcParams['axes.grid'] = True\n",
    "plt.rcParams['xtick.direction'] = 'in'\n",
    "plt.rcParams['ytick.direction'] = 'in'\n",
    "plt.rcParams['grid.alpha'] = 0.4\n",
    "plt.rcParams['figure.figsize'] = (8, 8)"
   ]
  },
  {
   "cell_type": "markdown",
   "metadata": {},
   "source": [
    "## 3. Weak-lensing peak counts: an example in N-dimensional case\n",
    "\n",
    "In this section, we will see how to carry out parameter inference with multi-dimensional data and parameter vectors. \n",
    "We will study weak lensing as an example. \n",
    "\n",
    "### Context\n",
    "\n",
    "Weak gravitation lensing describes the fact that light emitted from distant galaxies is bent by massive structures that it meets on the trajectory. \n",
    "It is espectially sensible to two cosmological parameters: the abundance $\\Omega_\\mathrm{m}$ and the fluctuation $\\sigma_8$ of matters.\n",
    "\n",
    "Peak are local maxima from the lensing maps.\n",
    "Different cosmological parameters yield different massive structures, \n",
    "which affect the peak number counts.\n",
    "The data of peak counts can then be used to estimate (or more formally, to \"constrain\") parameters $\\Omega_\\mathrm{m}$ and $\\sigma_8$.\n",
    "And this is what we are going to do in this section.\n",
    "\n",
    "The data for this section can be found in the folder `data`.\n",
    "They are part of the data taken from [this paper](https://arxiv.org/abs/1506.01076).\n",
    "\n",
    "### Likelihood in a high dimensional data space\n",
    "\n",
    "Let's recall first what a likelihood is.\n",
    "A likelihood $\\mathcal{L}(\\boldsymbol{\\theta}|\\boldsymbol{x}_\\mathrm{obs})$ is a function of parameters $\\boldsymbol{\\theta}$ given an observation $\\boldsymbol{x}_\\mathrm{obs}$. \n",
    "It is defined as $\\mathcal{L}(\\boldsymbol{\\theta}|\\boldsymbol{x}_\\mathrm{obs}) = P(\\boldsymbol{x}_\\mathrm{obs}|\\boldsymbol{\\theta})$, \n",
    "meaning the value of the **stochastic** model $P(\\boldsymbol{x}|\\boldsymbol{\\theta})$ evaluated at $\\boldsymbol{x}=\\boldsymbol{x}_\\mathrm{obs}$, under parameter $\\boldsymbol{\\theta}$.\n",
    "We put parameters and data in bold because they are vectors now.\n",
    "\n",
    "Why is the model stochastic? \n",
    "Because the Universe itself is considered as a random realization; \n",
    "also because in astronomy, we often need to account for \n",
    "undesired astrophysical features, observational effects, instrumental errors, etc.\n",
    "These are often stochastic.\n",
    "\n",
    "This means that, to evaluate the likelihood, we need models for all these.\n",
    "We need to know the shape of $P$.\n",
    "This task is already not easy in 1-D case. \n",
    "In principle, one can run simulations or collect data of similar nature to estimate this distribution. \n",
    "However, even when it's possible to do so, it's very hard to avoid biases. \n",
    "In multi-dimensional cases, it's even more difficult \n",
    "as the required number of samples soon becomes too big to be done when the dimension increases. \n",
    "This is called the _curse of dimensionality_.\n",
    "\n",
    "That's why we often propose theoretical or analytical formalisms as a model. \n",
    "This is what we have done implicitly in Section 2, \n",
    "where the peculiar velocity $v_\\mathrm{p}$ has been modelled as following a Gaussian distribution. \n",
    "In general, although the model doesn't have to be Gaussian, Gaussian distributions are still the most commonly chosen models due to the central limit theorem.\n",
    "\n",
    "### Gaussian distribution in multi-dimensional space\n",
    "\n",
    "Let's take a look at the Gaussian distributions. \n",
    "Let $\\boldsymbol{x}$ be an variable vector of $d$ dimensions,\n",
    "$\\boldsymbol{\\mu}$ the mean of $\\boldsymbol{x}$, \n",
    "and $\\boldsymbol{C}$ the covariance between all components of $\\boldsymbol{x}$.\n",
    "Then we say $\\boldsymbol{x}$ follows a _multivariate Gaussian distribution_ if its pdf is described by\n",
    "\n",
    "$$P(\\boldsymbol{x}|\\boldsymbol{\\mu}, \\boldsymbol{C}) = \\frac{1}{\\sqrt{(2\\pi)^d} \\cdot|\\det\\boldsymbol{C}|} \n",
    "\\exp\\bigg(-\\frac{1}{2}\\chi^2\\bigg)$$\n",
    "\n",
    "with\n",
    "\n",
    "$$\\chi^2 \\equiv (\\boldsymbol{x} - \\boldsymbol{\\mu})^T \\boldsymbol{C}^{-1} \n",
    "(\\boldsymbol{x} - \\boldsymbol{\\mu})$$\n",
    "\n",
    "where $\\boldsymbol{C}^{-1}$ is the inverse covariance and $\\mathrm{T}$ the transpose operator. \n",
    "The quantity $\\chi^2$ is pronounced as \"chi-squared\".\n",
    "It summarizes **how far $\\boldsymbol{x}$ is deviated from the mean**.\n",
    "If you don't see this clearly, try again by supposing $\\boldsymbol{C}$ diagonal.\n",
    "\n",
    "That means, if we assume a Gaussian model for our $P(\\boldsymbol{x}|\\boldsymbol{\\theta})$, \n",
    "then the only remaining thing to do is to estimate the mean and the covariance \n",
    "for, ideally, all $\\boldsymbol{\\theta}$ of interest.\n",
    "So, we are rather talking about $\\boldsymbol{\\mu}(\\boldsymbol{\\theta})$ and $\\boldsymbol{C}(\\boldsymbol{\\theta})$.\n",
    "\n",
    "### Modelling by a simulator\n",
    "\n",
    "For our cosmological analysis with weak lensing, we will model peak counts with data provided by a simulator.\n",
    "This simulator reads cosmological parameters as inputs and generates a lensing map before counting peaks.\n",
    "Thus, with many realizations, it should be able to reconstruct $P(\\boldsymbol{x}|\\boldsymbol{\\theta})$ by itself.\n",
    "\n",
    "However, here we choose not to go down this road.\n",
    "Instead, we will approximate $P(\\boldsymbol{x}|\\boldsymbol{\\theta})$ with a multivariate Gaussian.\n",
    "The data from the simulator will only be used for estimating \n",
    "$\\boldsymbol{\\mu}(\\boldsymbol{\\theta})$ and $\\boldsymbol{C}(\\boldsymbol{\\theta})$.\n",
    "The goal is to use this dataset to constrain cosmological parameters.\n",
    "\n",
    "In the following, we will consider a 2-dimensional parameter space, composed of `Omega_m` and `sigma_8`.\n",
    "Our data vector is composed of peak counts in 5 signal-to-noise ratio bins, so 5-dimensional.\n",
    "To simplify, we will only carry out a Bayesian analysis.\n",
    "This is also more common for parameter inference in cosmology."
   ]
  },
  {
   "cell_type": "markdown",
   "metadata": {},
   "source": [
    "### 3.1 Mean estimate\n",
    "\n",
    "Let's start smoothly with only one parameter set: `Omega_m = 0.3` and `sigma_8 = 0.78`.\n",
    "The corresponding file contains a data matrix of shape (1000, 5).\n",
    "These are 1000 realizations of 5-D data vector $\\boldsymbol{x}$.\n",
    "Can you calculate $\\boldsymbol{\\mu}$ in this case?\n",
    "\n",
    "**TODO: Calculate `mu`, the 5-D mean over 1000 data vectors**"
   ]
  },
  {
   "cell_type": "code",
   "execution_count": 2,
   "metadata": {},
   "outputs": [
    {
     "name": "stdout",
     "output_type": "stream",
     "text": [
      "(1000, 5)\n",
      "[[362.  82.  36.  22.  12.]\n",
      " [339.  96.  33.  12.  15.]\n",
      " [323. 100.  42.  14.   8.]\n",
      " ...\n",
      " [304.  96.  38.  16.  11.]\n",
      " [309.  91.  48.  15.   8.]\n",
      " [321.  99.  31.  15.  17.]]\n"
     ]
    }
   ],
   "source": [
    "## Define parameters \n",
    "Omega_m = 0.3\n",
    "sigma_8 = 0.78\n",
    "\n",
    "## Define file name\n",
    "name = 'data/dataMat_OmegaM%.3f_sigEig%.3f.npy' % (Omega_m, sigma_8)\n",
    "\n",
    "## Load data\n",
    "data = np.load(name)\n",
    "\n",
    "## Check the shape of the data\n",
    "print(data.shape)\n",
    "\n",
    "## Take a look\n",
    "print(data)\n",
    "\n",
    "## TODO: Add your code here for mean\n",
    "\n",
    "\n",
    "\n",
    "\n",
    "\n",
    "## End of TODO"
   ]
  },
  {
   "cell_type": "markdown",
   "metadata": {},
   "source": [
    "### 3.2 Covariance estimate\n",
    "\n",
    "Now please estimate the covariance `cov` from the data matrix. \n",
    "We will use `np.cov` with the option `ddof=1`. \n",
    "Why? Type `np.cov?` to understand.\n",
    "\n",
    "We will also estimate the inverse covariance `inv_cov` from `inv_cov`.\n",
    "We will use `np.linalg.inv` this time.\n",
    "After the calculation, please multiply your result by `(N-d-2)/(N-1)`, \n",
    "where `N = 1000` and `d = 5`.\n",
    "This scaling is for debiasing the inverse estimate. \n",
    "\n",
    "**TODO:**\n",
    "- **Calculate `cov` with `ddof=1`**\n",
    "- **Calculate `inv_cov` with scaling factor applied**"
   ]
  },
  {
   "cell_type": "code",
   "execution_count": 3,
   "metadata": {},
   "outputs": [],
   "source": [
    "## TODO: Add your code here for covariance\n",
    "\n",
    "\n",
    "\n",
    "\n",
    "\n",
    "## End of TODO\n",
    "\n",
    "## Define number of realizations\n",
    "N = 1000\n",
    "\n",
    "## Define dimension of data vector\n",
    "d = 5\n",
    "\n",
    "## TODO: Add your code here for inverse\n",
    "\n",
    "\n",
    "\n",
    "\n",
    "\n",
    "## End of TODO"
   ]
  },
  {
   "cell_type": "markdown",
   "metadata": {},
   "source": [
    "### 3.3 Chi-squred and likelihood\n",
    "\n",
    "Now please calculate the chi-squared and the likelihood.\n",
    "You will need the observation `x_obs` and it is already provided.\n",
    "You will also need `np.dot`, `np.linalg.det`, and `np.fabs`.\n",
    "You can ignore the constant factor in the likelihood.\n",
    "\n",
    "**TODO:**\n",
    "- **Calculate `chi_sq`**\n",
    "- **Calculate `likelihood`**"
   ]
  },
  {
   "cell_type": "code",
   "execution_count": 4,
   "metadata": {},
   "outputs": [
    {
     "name": "stdout",
     "output_type": "stream",
     "text": [
      "[339.  89.  43.  11.  16.]\n"
     ]
    }
   ],
   "source": [
    "## Read observation from file\n",
    "x_obs = np.load('data/x_obs.npy')\n",
    "\n",
    "## Print\n",
    "print(x_obs)\n",
    "\n",
    "## TODO: Add your code here for covariance\n",
    "\n",
    "\n",
    "\n",
    "\n",
    "\n",
    "## End of TODO\n",
    "\n",
    "## TODO: Add your code here for covariance\n",
    "\n",
    "\n",
    "\n",
    "\n",
    "\n",
    "## End of TODO"
   ]
  },
  {
   "cell_type": "markdown",
   "metadata": {},
   "source": [
    "### 3.4 Make a function\n",
    "\n",
    "Complete the following prototype:\n",
    "```\n",
    "def compute_likelihood(Omega_m, sigma_8):\n",
    "    ...\n",
    "    return likelihood\n",
    "```\n",
    "\n",
    "**TODO: Implement `compute_likelihood`**"
   ]
  },
  {
   "cell_type": "code",
   "execution_count": 5,
   "metadata": {},
   "outputs": [],
   "source": [
    "def compute_likelihood(Omega_m, sigma_8):\n",
    "    ## TODO: Add your code here\n",
    "    \n",
    "    pass\n",
    "    \n",
    "    \n",
    "    \n",
    "    ## End of TODO"
   ]
  },
  {
   "cell_type": "markdown",
   "metadata": {},
   "source": [
    "### 3.5 Show me the likelihood!\n",
    "\n",
    "We are going to visualize what you have just calculated. \n",
    "Please read the comments of the following code carefully.\n",
    "After you understand it, add what you have implemented.\n",
    "\n",
    "**TODO:** \n",
    "- **Understand the code and complete the likelihood**\n",
    "- **Run the code, then rerun it again with `path = 0.005` (it might take a while)**"
   ]
  },
  {
   "cell_type": "code",
   "execution_count": 6,
   "metadata": {},
   "outputs": [
    {
     "data": {
      "image/png": "[encoded data removed]",
      "text/plain": [
       "<Figure size 576x576 with 1 Axes>"
      ]
     },
     "metadata": {
      "needs_background": "light"
     },
     "output_type": "display_data"
    }
   ],
   "source": [
    "## TODO: Change `path` to `0.005` after a success run\n",
    "\n",
    "path = 0.025\n",
    "\n",
    "\n",
    "\n",
    "## End of TODO\n",
    "\n",
    "## Define Omega_m and sigma_8 arrays\n",
    "Omega_m_arr = np.arange(0.1, 0.5000001, path)\n",
    "sigma_8_arr = np.arange(0.6, 1.0000001, path)\n",
    "\n",
    "## Make a grid\n",
    "Omega_m_grid, sigma_8_grid = np.meshgrid(Omega_m_arr, sigma_8_arr)\n",
    "\n",
    "## Initialize the likelihood grid with 0\n",
    "like_grid = np.zeros_like(Omega_m_grid, dtype=float)\n",
    "\n",
    "## Loop over y-axis (sigma_8)\n",
    "for j, sigma_8 in enumerate(sigma_8_arr):\n",
    "    \n",
    "    ## Loop over x-axis (Omega_m)\n",
    "    for i, Omega_m in enumerate(Omega_m_arr):\n",
    "        \n",
    "        ## The code will execute everything in `try` until an error is met.\n",
    "        ## If no error occurs, it just leaves `try` and skips `except`.\n",
    "        try:\n",
    "            ## TODO: Add your code here for likelihood\n",
    "            \n",
    "            pass\n",
    "            \n",
    "            \n",
    "            \n",
    "            ## End of TODO\n",
    "        \n",
    "        ## If any error appears (for example, file missing), \n",
    "        ## then the code will jump to here and execute what is in `except`.\n",
    "        ## The error is caught and won't be raised\n",
    "        except:\n",
    "            ## If the data file is missing, put 0 in.\n",
    "            like_grid[j][i] = 0\n",
    "\n",
    "## Plot!\n",
    "plt.imshow(like_grid, cmap='magma', origin='lower', interpolation='none', aspect='equal', \n",
    "           extent=[0.1-path/2, 0.5+path/2, 0.6-path/2, 1.0+path/2]);\n",
    "\n",
    "## Labels\n",
    "plt.xlabel(r'$\\Omega_\\mathrm{m}$')\n",
    "plt.ylabel(r'$\\sigma_8$');"
   ]
  },
  {
   "cell_type": "markdown",
   "metadata": {},
   "source": [
    "We will take a flat prior here, so that the likelihood is the posterior.\n",
    "\n",
    "While in 1-D case we talk about credible interval, we talk about _credible contour_ in 2-D case and _credible region_ in general.\n",
    "Here we want to draw 1 and 2$\\sigma$ credible contours.\n",
    "This means that we need to find thresholds for the 1 and 2$\\sigma$ most probable contours.\n",
    "Revise Question 2.9 if you are lost.\n",
    "\n",
    "If you take a 2-D Gaussian and calculate the integral within 1$\\sigma$ circle, \n",
    "that's **not** 68.3%.\n",
    "However, by using the term 1$\\sigma$, we always implicitly refer to 1$\\sigma$ in 1-D case, so to 68.3%,\n",
    "because people like 68.3% as threshold.\n",
    "Same for 95.4% as a good threshold to include most of the cases."
   ]
  },
  {
   "cell_type": "markdown",
   "metadata": {},
   "source": [
    "### 3.6 Get the thresholds for credible contours\n",
    "\n",
    "Explain why we can reuse `find_threshold` that we have implemented previously\n",
    "and calculate thresholds for 1 and 2$\\sigma$ credible contours.\n",
    "\n",
    "**TODO: Calculate thresholds for 1 and 2$\\sigma$ credible contours**"
   ]
  },
  {
   "cell_type": "code",
   "execution_count": 7,
   "metadata": {},
   "outputs": [],
   "source": [
    "## TODO: Add your code here for thresholds\n",
    "\n",
    "\n",
    "\n",
    "\n",
    "\n",
    "## End of TODO"
   ]
  },
  {
   "cell_type": "markdown",
   "metadata": {},
   "source": [
    "### 3.7 Draw the contours\n",
    "\n",
    "To draw the contours, we don't need to determine the edges from thresholds.\n",
    "There are `matplotlib` functions for that!\n",
    "They are called `plt.contour` and `plt.contourf`.\n",
    "\n",
    "To avoid wasting your time at reading `matplotlib`'s documentaion, \n",
    "I will implement these for you.\n",
    "You just need to provide thresholds and choose a color :)\n",
    "\n",
    "**TODO:**\n",
    "- **Complete `threshold_list`**\n",
    "- **Choose a color for contours**"
   ]
  },
  {
   "cell_type": "code",
   "execution_count": 8,
   "metadata": {},
   "outputs": [
    {
     "name": "stderr",
     "output_type": "stream",
     "text": [
      "<ipython-input-8-ebb5ce0ba0d8>:22: UserWarning: No contour levels were found within the data range.\n",
      "  plt.contour(Omega_m_arr, sigma_8_arr, like_grid, levels=[threshold_list[1]],\n"
     ]
    },
    {
     "data": {
      "image/png": "[encoded data removed]",
      "text/plain": [
       "<Figure size 576x576 with 1 Axes>"
      ]
     },
     "metadata": {
      "needs_background": "light"
     },
     "output_type": "display_data"
    }
   ],
   "source": [
    "## TODO: Replace the first value with 1 sigma threshold, second with 2 sigma \n",
    "\n",
    "threshold_list = [0, 0]\n",
    "\n",
    "\n",
    "\n",
    "## End of TODO\n",
    "\n",
    "## TODO: Change the color\n",
    "\n",
    "color = 'darkblue'\n",
    "\n",
    "\n",
    "\n",
    "## End of TODO\n",
    "\n",
    "## Plot 1 sigma contour with plt.contourf (filled)\n",
    "plt.contourf(Omega_m_arr, sigma_8_arr, like_grid, levels=[threshold_list[0], float('inf')], \n",
    "             colors=[color], alpha=0.4)\n",
    "\n",
    "## Plot 2 sigma contour with plt.contour (unfilled)\n",
    "plt.contour(Omega_m_arr, sigma_8_arr, like_grid, levels=[threshold_list[1]], \n",
    "            colors=[color], linestyles=['-'], alpha=0.8)\n",
    "\n",
    "## Labels, always!\n",
    "plt.xlabel(r'$\\Omega_\\mathrm{m}$')\n",
    "plt.ylabel(r'$\\sigma_8$');"
   ]
  },
  {
   "cell_type": "markdown",
   "metadata": {},
   "source": [
    "Fantastic! Let's interpret this plot: the true parameters lie in the shaded region with 68.3% of chance and in the solid contour with 95.4%.\n",
    "\n",
    "This is not yet everything.\n",
    "Imagine now an arrogant cosmologist comes into the classroom and says:\n",
    "\n",
    "> I don't care about $\\sigma_8$. \n",
    "> Just show me what your constraint on $\\Omega_\\mathrm{m}$ is!\n",
    "\n",
    "Panic? Fear not!\n",
    "The guy is actually asking for $P(\\Omega_\\mathrm{m})$, \n",
    "and since we have the joint pdf $P(\\Omega_\\mathrm{m}, \\sigma_8)$,\n",
    "$P(\\Omega_\\mathrm{m})$ is nothing but $\\int P(\\Omega_\\mathrm{m}, \\sigma_8)\\ \\mathrm{d}\\sigma_8$.\n",
    "This is called the _marginalization_."
   ]
  },
  {
   "cell_type": "markdown",
   "metadata": {},
   "source": [
    "### 3.8 Marginalization\n",
    "\n",
    "In our case, $P(\\Omega_\\mathrm{m}, \\sigma_8)$ is just `like_grid`. \n",
    "Now let's marginalize over `sigma_8` and draw it.\n",
    "Make sure that you are summing on the correct axis.\n",
    "\n",
    "**TODO: Draw the marginalized distribution for `Omega_m`**"
   ]
  },
  {
   "cell_type": "code",
   "execution_count": 9,
   "metadata": {},
   "outputs": [
    {
     "data": {
      "image/png": "[encoded data removed]",
      "text/plain": [
       "<Figure size 576x576 with 1 Axes>"
      ]
     },
     "metadata": {
      "needs_background": "light"
     },
     "output_type": "display_data"
    }
   ],
   "source": [
    "## TODO: Add your code here for marginalization\n",
    "\n",
    "\n",
    "\n",
    "\n",
    "\n",
    "## End of TODO\n",
    "\n",
    "## Labels\n",
    "plt.xlabel(r'$\\Omega_\\mathrm{m}$')\n",
    "plt.ylabel('Pdf');"
   ]
  },
  {
   "cell_type": "markdown",
   "metadata": {},
   "source": [
    "### 3.9 Corner plot\n",
    "\n",
    "Now let's plot the marginal for `sigma_8` as well. \n",
    "Copy codes from Questions 3.7 and 3.8 and put all plots in the indicated places.\n",
    "This is what we call a _corner plot_.\n",
    "\n",
    "**TODO:**\n",
    "- Copy `plt.plot` from Question 3.7 to the indicated place\n",
    "- Copy `plt.contour` and `plt.contourf` from Question 3.8 to the indicated place\n",
    "- Plot the `sigma_8` marginal"
   ]
  },
  {
   "cell_type": "code",
   "execution_count": 10,
   "metadata": {},
   "outputs": [
    {
     "data": {
      "image/png": "[encoded data removed]",
      "text/plain": [
       "<Figure size 864x864 with 4 Axes>"
      ]
     },
     "metadata": {
      "needs_background": "light"
     },
     "output_type": "display_data"
    }
   ],
   "source": [
    "fig = plt.figure(figsize=(12, 12))\n",
    "fig.add_subplot(2, 2, 1)\n",
    "\n",
    "## TODO: Copy here plt.plot from Question 3.7\n",
    "\n",
    "\n",
    "\n",
    "\n",
    "\n",
    "## End of TODO\n",
    "\n",
    "## Layout\n",
    "plt.xlim(Omega_m_arr[0], Omega_m_arr[-1])\n",
    "plt.gca().set_xticklabels([])\n",
    "plt.gca().set_yticklabels([])\n",
    "plt.ylabel('Pdf')\n",
    "\n",
    "fig.add_subplot(2, 2, 2)\n",
    "\n",
    "plt.annotate('This is a corner plot of\\ncosmological constraints\\nfrom weak-lensing peak counts.', \n",
    "             (0.5, 0.5), ha='center', va='center', size=20)\n",
    "plt.gca().set_axis_off()\n",
    "\n",
    "fig.add_subplot(2, 2, 3)\n",
    "\n",
    "## TODO: Copy here plt.contour and plt.contourf from Question 3.8\n",
    "\n",
    "\n",
    "\n",
    "\n",
    "\n",
    "## End of TODO\n",
    "\n",
    "## Layout\n",
    "plt.xlabel(r'$\\Omega_\\mathrm{m}$');\n",
    "plt.ylabel(r'$\\sigma_8$')\n",
    "\n",
    "fig.add_subplot(2, 2, 4)\n",
    "\n",
    "## TODO: Add your code here for sigma_8 marginal\n",
    "\n",
    "\n",
    "\n",
    "\n",
    "\n",
    "## End of TODO\n",
    "\n",
    "## Layout\n",
    "plt.xlim(sigma_8_arr[0], sigma_8_arr[-1])\n",
    "plt.gca().set_yticklabels([])\n",
    "plt.xlabel(r'$\\sigma_8$')\n",
    "plt.subplots_adjust(wspace=0.02, hspace=0.02);"
   ]
  },
  {
   "cell_type": "markdown",
   "metadata": {},
   "source": [
    "Please take a few seconds to enjoy your marvelous performance!\n",
    "You know evreything about the principle of parameter inference now.\n",
    "\n",
    "When the number of parameters is more than 2, \n",
    "we visualize the marginal of every parameter and the contours of every couple of parameters.\n",
    "On a well-organized figure, the panels can only occupy the bottom-left corner.\n",
    "That's why we call it a corner plot.\n",
    "\n",
    "Last comment in this section: \n",
    "we have built our constraints from the likelihood/posterior which was evaluated on a grid;\n",
    "this is rather rare in reality. \n",
    "In general the number of parameters (only 2 in our case) can range from a handful to hundreds,\n",
    "where the grid evaluation is impossible (curse of dimensionality).\n",
    "What people do in practice is to sample smartly the likelihood/posterior distribution,\n",
    "and reconstruct it afterward.\n",
    "\n",
    "As studying \"sampling and density estimation\" can require a consequent amount of time, \n",
    "we will leave this interesting topic for the future."
   ]
  }
 ],
 "metadata": {
  "kernelspec": {
   "display_name": "Python 3 (ipykernel)",
   "language": "python",
   "name": "python3"
  },
  "language_info": {
   "codemirror_mode": {
    "name": "ipython",
    "version": 3
   },
   "file_extension": ".py",
   "mimetype": "text/x-python",
   "name": "python",
   "nbconvert_exporter": "python",
   "pygments_lexer": "ipython3",
   "version": "3.10.6"
  }
 },
 "nbformat": 4,
 "nbformat_minor": 4
}
