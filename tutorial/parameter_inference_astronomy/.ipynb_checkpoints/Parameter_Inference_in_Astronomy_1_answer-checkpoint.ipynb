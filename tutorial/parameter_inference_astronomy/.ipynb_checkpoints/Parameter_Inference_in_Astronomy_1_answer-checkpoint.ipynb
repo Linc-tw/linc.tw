{
 "cells": [
  {
   "cell_type": "markdown",
   "metadata": {},
   "source": [
    "# Parameter Inference in Astronomy"
   ]
  },
  {
   "cell_type": "markdown",
   "metadata": {},
   "source": [
    "- Objective: initiate knowledge about parameter inference\n",
    "- Aimed audience: undergraduate students in STEM\n",
    "- Prequisite knowledge: high-school level mathematics\n",
    "\n",
    "Below we load some handy libraries for our tutorial and configure a bit to make plots prettier."
   ]
  },
  {
   "cell_type": "code",
   "execution_count": 1,
   "metadata": {},
   "outputs": [],
   "source": [
    "## Import packages\n",
    "import numpy as np\n",
    "import scipy.stats as stats\n",
    "import matplotlib.pyplot as plt\n",
    "\n",
    "## Matplotlib settings\n",
    "plt.rcParams['lines.linewidth'] = 1.5\n",
    "plt.rcParams['font.size'] = 16\n",
    "plt.rcParams['axes.grid'] = True\n",
    "plt.rcParams['xtick.direction'] = 'in'\n",
    "plt.rcParams['ytick.direction'] = 'in'\n",
    "plt.rcParams['grid.alpha'] = 0.4\n",
    "plt.rcParams['figure.figsize'] = (8, 8)"
   ]
  },
  {
   "cell_type": "markdown",
   "metadata": {},
   "source": [
    "## 1. Coin throwing: a toy model in 1-D discrete case\n",
    "\n",
    "### Description\n",
    "\n",
    "Let's start with throwing some coins. \n",
    "Say that we have 2 coins A and B. \n",
    "For both of them, the results can only be \"head\" or \"tail\". \n",
    "However, A's head cannot be distinguished from B's head, in the same way that A's tail looks identical to B's tail. \n",
    "In addition, these coins are not fair:\n",
    "- Coin A shows head with a probability of `t`, tail with `1-t`;\n",
    "- Coin B shows tail with a probability of `t`, head with `1-t`,\n",
    "\n",
    "where `t` is a value to be determined.\n",
    "\n",
    "### Notation\n",
    "\n",
    "Let `x = 0` (tail) or `1` (head) be a variable describing possible results. \n",
    "We will set `t = 0.95` at the beginning."
   ]
  },
  {
   "cell_type": "markdown",
   "metadata": {},
   "source": [
    "### 1.1 Probability mass function\n",
    "\n",
    "Please run the block below once. \n",
    "You will see the probability mass function (pmf) for Coin A. \n",
    "The probability is 0.95 for `x = 1` and 0.05 for `x = 0`. \n",
    "It makes sense! \n",
    "Now, can you imitate it and draw the pmf for Coin B? \n",
    "Remember to use a different symbol and color! \n",
    "\n",
    "**TODO: Draw the pmf for Coin B**"
   ]
  },
  {
   "cell_type": "code",
   "execution_count": 2,
   "metadata": {},
   "outputs": [
    {
     "data": {
      "image/png": "[encoded data removed]",
      "text/plain": [
       "<Figure size 576x576 with 1 Axes>"
      ]
     },
     "metadata": {
      "needs_background": "light"
     },
     "output_type": "display_data"
    }
   ],
   "source": [
    "## Define t\n",
    "t = 0.95\n",
    "\n",
    "## Define t for Coin A\n",
    "t_A = t\n",
    "\n",
    "## List out possible x\n",
    "x_arr = [0, 1]\n",
    "\n",
    "## Calculate pmf for all possible x\n",
    "pmf_A = [stats.bernoulli.pmf(x, p=t_A) for x in x_arr]\n",
    "\n",
    "## Plot them\n",
    "plt.plot(x_arr, pmf_A, 'o', color='darkblue', label='Coin A pmf')\n",
    "\n",
    "## TODO: Add your code here for Coin B\n",
    "\n",
    "## Define t for Coin B\n",
    "t_B = 1 - t\n",
    "\n",
    "## Calculate pmf for all possible x\n",
    "pmf_B = [stats.bernoulli.pmf(x, p=t_B) for x in x_arr]\n",
    "\n",
    "## Plot\n",
    "plt.plot(x_arr, pmf_B, 's', color='darkred', label='Coin B pmf')\n",
    "\n",
    "## End of TODO\n",
    "\n",
    "## Adjust axes and labels\n",
    "plt.xlim(-0.7, 1.7)\n",
    "plt.ylim(-0.1, 1.6)\n",
    "plt.legend()\n",
    "plt.xlabel('Result from coins $x$')\n",
    "plt.ylabel('Probability');"
   ]
  },
  {
   "cell_type": "markdown",
   "metadata": {},
   "source": [
    "### 1.2 Sampling simulation\n",
    "\n",
    "Can we simulate results from coin-throwing with Python? \n",
    "Of course! I will show you how to do so for Coin A and let you complete for Coin B. \n",
    "\n",
    "**TODO:**\n",
    "- **Create 250 samples from throwing Coin B**  \n",
    "- **Print out the number of heads and tails**\n",
    "- **Rerun it several times**"
   ]
  },
  {
   "cell_type": "code",
   "execution_count": 3,
   "metadata": {},
   "outputs": [
    {
     "name": "stdout",
     "output_type": "stream",
     "text": [
      "Number of heads = 18\n",
      "Number of tails = 232\n"
     ]
    }
   ],
   "source": [
    "## Define N = 250\n",
    "N = 250\n",
    "\n",
    "## N samples following Coin A's pmf\n",
    "samples_A = np.random.binomial(1, t_A, size=N)\n",
    "\n",
    "## TODO: Add your code here for Coin B\n",
    "\n",
    "## N samples following Coin B's pmf\n",
    "samples_B = np.random.binomial(1, t_B, size=N)\n",
    "\n",
    "## End of TODO\n",
    "\n",
    "## TODO: Add your code here for printing\n",
    "\n",
    "## Print\n",
    "print('Number of heads = %d' % samples_B.sum())\n",
    "print('Number of tails = %d' % (N-samples_B.sum()))\n",
    "\n",
    "## End of TODO"
   ]
  },
  {
   "cell_type": "markdown",
   "metadata": {},
   "source": [
    "### 1.3 Reconstruct pmf from sampling \n",
    "\n",
    "Let's verify the theoretical pmf with simulations. \n",
    "To do this, we will reconstruct the pmf by making a histogram from samples. \n",
    "I will plot the theoretical and reconstructed pmf for Coin A. \n",
    "Please complete it for Coin B.\n",
    "\n",
    "**TODO: Draw theoretical and reconstructed pmf for Coin B**"
   ]
  },
  {
   "cell_type": "code",
   "execution_count": 4,
   "metadata": {},
   "outputs": [
    {
     "data": {
      "image/png": "[encoded data removed]",
      "text/plain": [
       "<Figure size 864x432 with 2 Axes>"
      ]
     },
     "metadata": {
      "needs_background": "light"
     },
     "output_type": "display_data"
    }
   ],
   "source": [
    "## We will use two panels in this figure. \n",
    "## Let's focus first one the first one.\n",
    "fig = plt.figure(figsize=(12, 6))\n",
    "fig.add_subplot(1, 2, 1)\n",
    "\n",
    "## We define the bins as [-0.5, 0.5, 1.5], such that 0 is counted in the left bin and 1 in the right one.\n",
    "bins = [-0.5, 0.5, 1.5]\n",
    "\n",
    "## This line is copied from above, to replot pmf.\n",
    "plt.plot(x_arr, pmf_A, 'o', color='darkblue', label='Coin A pmf')\n",
    "\n",
    "## This plots the normalized histogram.\n",
    "plt.hist(samples_A, bins, density=True, color='darkblue', label='Coin A samples', alpha=0.5)\n",
    "\n",
    "## Adjust axes and labels\n",
    "plt.xlim(-0.7, 1.7)\n",
    "plt.ylim(-0.1, 1.6)\n",
    "plt.legend()\n",
    "plt.xlabel('Result $x$')\n",
    "plt.ylabel('Probability')\n",
    "\n",
    "## Now we focus on the second panel\n",
    "fig.add_subplot(1, 2, 2)\n",
    "\n",
    "## TODO: Add your code here for Coin B\n",
    "\n",
    "plt.plot(x_arr, pmf_B, 's', color='darkred', label='Coin B pmf')\n",
    "plt.hist(samples_B, bins, density=True, color='darkred', label='Coin B samples', alpha=0.5)\n",
    "\n",
    "## End of TODO\n",
    "\n",
    "## Adjust axes and labels\n",
    "plt.xlim(-0.7, 1.7)\n",
    "plt.ylim(-0.1, 1.6)\n",
    "plt.legend()\n",
    "plt.xlabel('Result $x$')\n",
    "plt.gca().set_yticklabels([]);"
   ]
  },
  {
   "cell_type": "markdown",
   "metadata": {},
   "source": [
    "Try to rerun Questions 1.2 and 1.3 several times. \n",
    "Does the figure change? Why? \n",
    "Change `N` into `10000` and do it again."
   ]
  },
  {
   "cell_type": "markdown",
   "metadata": {},
   "source": [
    "### 1.4 Picking a coin before throwing\n",
    "\n",
    "The story becomes more complicated now. \n",
    "Let's put both coins in the same bag and define an _action_ as the following:\n",
    "- randomly take one coin out of the bag;\n",
    "- while without knowing which one it is, throw it once;\n",
    "- record the result (head or tail); and\n",
    "- put the coin back to the bag.\n",
    "\n",
    "By intuition, what is the probability to get a head from an action?\n",
    "\n",
    "We want to verify it. \n",
    "Using codes above, can you write a new code which yield the result from an action?\n",
    "\n",
    "**TODO: Create a \"sampler\" for actions as a function which returns (result, coin)**"
   ]
  },
  {
   "cell_type": "code",
   "execution_count": 5,
   "metadata": {},
   "outputs": [],
   "source": [
    "def sampler_for_actions():\n",
    "    ## This should return (0, 'A') or (1, 'A') or (0, 'B') or (1, 'B')\n",
    "    ## with proper probabilities.\n",
    "    \n",
    "    ## TODO: Add your code here for actions\n",
    "    \n",
    "    ## Equal chance to have Coin A or Coin B\n",
    "    t_coin = 0.5\n",
    "    \n",
    "    ## Get a coin\n",
    "    coin = np.random.binomial(1, t_coin, size=1)\n",
    "    \n",
    "    ## Depending on the coin, generate a result\n",
    "    if coin == 1:\n",
    "        coin_name = 'A'\n",
    "        result = np.random.binomial(1, t_A, size=1)[0]\n",
    "    else:\n",
    "        coin_name = 'B'\n",
    "        result = np.random.binomial(1, t_B, size=1)[0]\n",
    "    \n",
    "    ## Return both result and coin name\n",
    "    return (result, coin_name)\n",
    "    \n",
    "    ## End of TODO"
   ]
  },
  {
   "cell_type": "markdown",
   "metadata": {},
   "source": [
    "### 1.5 Sampling from the sampler\n",
    "\n",
    "We want to do a similar exercise as in Questions 1.2 and 1.3. \n",
    "\n",
    "**TODO**:\n",
    "- **Creates 1000 samples from the sampler**\n",
    "- **Print out the number of heads**\n",
    "- **Draw the theoretical and reconstructed pmf**"
   ]
  },
  {
   "cell_type": "code",
   "execution_count": 6,
   "metadata": {},
   "outputs": [
    {
     "name": "stdout",
     "output_type": "stream",
     "text": [
      "Number of heads = 488\n"
     ]
    },
    {
     "data": {
      "image/png": "[encoded data removed]",
      "text/plain": [
       "<Figure size 576x576 with 1 Axes>"
      ]
     },
     "metadata": {
      "needs_background": "light"
     },
     "output_type": "display_data"
    }
   ],
   "source": [
    "## Define N = 1000\n",
    "N = 1000\n",
    "\n",
    "## TODO: Add your code here for 1000 samples\n",
    "\n",
    "## Create an empty list\n",
    "samples_action = []\n",
    "\n",
    "## Create samples\n",
    "for i in range(N):\n",
    "    samples_action.append(sampler_for_actions())\n",
    "\n",
    "## End of TODO\n",
    "\n",
    "## TODO: Add your code here for the number of heads\n",
    "\n",
    "## Isolate the head/tail result part\n",
    "results_action = [sample[0] for sample in samples_action]\n",
    "\n",
    "## Print the number of heads\n",
    "print('Number of heads = %d' % sum(results_action))\n",
    "\n",
    "## End of TODO\n",
    "\n",
    "## TODO: Add your code here for the pmf\n",
    "\n",
    "## Combine the 2 theoretical pmf together\n",
    "pmf_action = [0.5*P_0+0.5*P_1 for P_0, P_1 in zip(pmf_A, pmf_B)]\n",
    "\n",
    "## Plot action's pmf\n",
    "plt.plot(x_arr, pmf_action, 'd', color='darkgreen', label='Action pmf')\n",
    "\n",
    "## This plots the normalized histogram.\n",
    "plt.hist(results_action, bins, density=True, color='darkgreen', label='Action samples', alpha=0.5)\n",
    "\n",
    "## End of TODO\n",
    "\n",
    "## Adjust axes and labels\n",
    "plt.xlim(-0.7, 1.7)\n",
    "plt.ylim(-0.1, 1.6)\n",
    "plt.legend()\n",
    "plt.xlabel('Result from actions')\n",
    "plt.ylabel('Probability');"
   ]
  },
  {
   "cell_type": "markdown",
   "metadata": {},
   "source": [
    "### Observation\n",
    "\n",
    "While you are enjoying this tutorial, your 7-year-old niece and her mom come in. \n",
    "Your niece grabs the bag, takes out a coin, throws it, and says:\n",
    "> Look! It's a head!\n",
    "\n",
    "At this very moment, your aunt says:\n",
    "> I saw that there were two coins in the bag. \n",
    "> Could you tell me which one my daughter was throwing?\n",
    "\n",
    "Coin A or Coin B, she means. \n",
    "In the following, we will note `x_obs = 1` (head) as the observed value. \n",
    "The goal is to answer to your aunt's question based one and only one observation from your niece."
   ]
  },
  {
   "cell_type": "markdown",
   "metadata": {},
   "source": [
    "### 1.6 Conditional probability\n",
    "\n",
    "The probability under a given condition is called conditional probability. \n",
    "Do you know what is the conditional probability \n",
    "for which the coin that your niece threw was A (or B)? \n",
    "What's the theoretical value? \n",
    "What about the reconstructed value from samples?\n",
    "\n",
    "**TODO:**\n",
    "- **Calculate the theoretical conditional probability of the coin being A given `x_obs = 1`**\n",
    "- **Calculate the reconstructed value using samples obtained in Question 1.5**"
   ]
  },
  {
   "cell_type": "code",
   "execution_count": 7,
   "metadata": {},
   "outputs": [
    {
     "name": "stdout",
     "output_type": "stream",
     "text": [
      "Head observed, the theoretical probability of the coin being A = 0.950000\n",
      "Head observed, the reconstructed probability of the coin being A = 0.944672\n"
     ]
    }
   ],
   "source": [
    "## TODO: Add your code here for theoretical conditional probability\n",
    "\n",
    "## This is P(1|A), the proba of getting x=1 from Coin A.\n",
    "P_1A = pmf_A[1]\n",
    "\n",
    "## This is P(1|B), the proba of getting x=1 from Coin B.\n",
    "P_1B = pmf_B[1]\n",
    "\n",
    "## P(A|1) = P(A & 1) / (P(A & 1) + P(B & 1))\n",
    "##        = P(A)*P(1|A) / (P(A)*P(1|A) + P(B)*P(1|B))\n",
    "## P(A) and P(B) are both 0.5.\n",
    "P_A1 = 0.5*P_1A / (0.5*P_1A + 0.5*P_1B)\n",
    "\n",
    "## Print\n",
    "print('Head observed, the theoretical probability of the coin being A = %f' % P_A1)\n",
    "\n",
    "## End of TODO\n",
    "\n",
    "## TODO: Add your code here for reconstructed conditional probability\n",
    "\n",
    "## Get all samples whose result is 1\n",
    "coin_list_1 = [sample[1] for sample in samples_action if sample[0] == 1]\n",
    "\n",
    "## Total number of selected samples\n",
    "N_1 = len(coin_list_1)\n",
    "\n",
    "## Number of A in selection\n",
    "coin_list_A1 = list(filter(lambda c: c == 'A', coin_list_1))\n",
    "N_A1 = len(coin_list_A1)\n",
    "\n",
    "## Print out\n",
    "print('Head observed, the reconstructed probability of the coin being A = %f' % (N_A1/N_1))\n",
    "\n",
    "## End of TODO"
   ]
  },
  {
   "cell_type": "markdown",
   "metadata": {},
   "source": [
    "Can you answer to your aunt's question easily? \n",
    "How confident are you?\n",
    "\n",
    "Try this: take `t = 0.52` and rerun the analysis. \n",
    "How will you answer to your aunt's question now?"
   ]
  },
  {
   "cell_type": "markdown",
   "metadata": {},
   "source": [
    "### 1.7 Unequal weights between A and B\n",
    "\n",
    "Let's set `t = 0.52`. \n",
    "Now we consider the case where we don't have 2 coins anymore but 3. \n",
    "One coin is like Coin A. \n",
    "The others are like Coin B, undistinguishable. \n",
    "Please copy the code to the block below and modify it to get the probability of the coin being A when the head is observed.\n",
    "\n",
    "**TODO:**\n",
    "- **Calculate the theoretical conditional probability of the coin being A given `x_obs = 1` in the new setting**\n",
    "- **Create a new sampler for the new setting as in Question 1.4**\n",
    "- **Calculate the reconstructed conditional probability of the coin being A given `x_obs = 1` with the new sampler**"
   ]
  },
  {
   "cell_type": "code",
   "execution_count": 8,
   "metadata": {},
   "outputs": [
    {
     "name": "stdout",
     "output_type": "stream",
     "text": [
      "Head observed, the theoretical probability of the coin being A = 0.351351\n",
      "Head observed, the reconstructed probability of the coin being A = 0.368000\n"
     ]
    }
   ],
   "source": [
    "## Redefine t\n",
    "t = 0.52\n",
    "t_A = t\n",
    "t_B = 1 - t\n",
    "\n",
    "## Redefine P(1|A) and P(1|B) with new t\n",
    "P_1A = stats.bernoulli.pmf(1, p=t_A)\n",
    "P_1B = stats.bernoulli.pmf(1, p=t_B)\n",
    "\n",
    "## TODO: Add your code here for the new theory value\n",
    "\n",
    "## P(A|1) = P(A & 1) / (P(A & 1) + P(B & 1))\n",
    "##        = P(A)*P(1|A) / (P(A)*P(1|A) + P(B)*P(1|B))\n",
    "## Now P(A) = 1/3, P(B) = 2/3.\n",
    "P_A1 = 1/3*P_1A / (1/3*P_1A + 2/3*P_1B)\n",
    "\n",
    "## Print\n",
    "print('Head observed, the theoretical probability of the coin being A = %f' % P_A1)\n",
    "\n",
    "## End of TODO\n",
    "\n",
    "def sampler_for_new_actions():\n",
    "    ## TODO: Add your code here for the new sampler\n",
    "    \n",
    "    t_coin = 1/3\n",
    "    coin = np.random.binomial(1, t_coin, size=1)\n",
    "    if coin == 1:\n",
    "        coin_name = 'A'\n",
    "        result = np.random.binomial(1, t_A, size=1)[0]\n",
    "    else:\n",
    "        coin_name = 'B'\n",
    "        result = np.random.binomial(1, t_B, size=1)[0]\n",
    "    return (result, coin_name)\n",
    "    \n",
    "    ## End of TODO\n",
    "    \n",
    "## TODO: Add your code here for the new reconstructed value\n",
    "\n",
    "## Create an empty list\n",
    "samples_action = []\n",
    "\n",
    "## Create samples\n",
    "for i in range(N):\n",
    "    samples_action.append(sampler_for_new_actions())\n",
    "\n",
    "## Get all samples whose result is 1\n",
    "coin_list_1 = [sample[1] for sample in samples_action if sample[0] == 1]\n",
    "\n",
    "## Total number of selected samples\n",
    "N_1 = len(coin_list_1)\n",
    "\n",
    "## Number of A in selection\n",
    "coin_list_A1 = list(filter(lambda c: c == 'A', coin_list_1))\n",
    "N_A1 = len(coin_list_A1)\n",
    "\n",
    "## Print out\n",
    "print('Head observed, the reconstructed probability of the coin being A = %f' % (N_A1/N_1))\n",
    "\n",
    "## End of TODO"
   ]
  },
  {
   "cell_type": "markdown",
   "metadata": {},
   "source": [
    "Let's summarize all these more properly. Please run the following block to see the illustration."
   ]
  },
  {
   "cell_type": "code",
   "execution_count": 9,
   "metadata": {},
   "outputs": [
    {
     "data": {
      "image/png": "[encoded data removed]",
      "text/plain": [
       "<Figure size 648x432 with 1 Axes>"
      ]
     },
     "metadata": {
      "needs_background": "light"
     },
     "output_type": "display_data"
    }
   ],
   "source": [
    "import matplotlib.patches as pat\n",
    "fig = plt.figure(figsize=(9, 6))\n",
    "ax = fig.gca()\n",
    "ax.add_artist(pat.Rectangle((-0.9, -0.6), 1.8, 1.2, fc='none', ec='darkblue', lw=2))\n",
    "ax.add_artist(pat.Circle((-0.25, 0), 0.5, fc='none', ec='darkred', lw=2))\n",
    "ax.add_artist(pat.Circle((0.25, 0), 0.5, fc='none', ec='darkgreen', lw=2))\n",
    "ax.annotate('$P(U)$', xy=(-0.45, 0), color='darkred', va='center', ha='center', size=18)\n",
    "ax.annotate('$P(V)$', xy=(0.45, 0), color='darkgreen', va='center', ha='center', size=18)\n",
    "ax.annotate('$P(U\\cap V)$', xy=(0, 0), color='k', va='center', ha='center', size=18)\n",
    "plt.xlim(-0.93, 0.93)\n",
    "plt.ylim(-0.62, 0.62)\n",
    "ax.set_axis_off()"
   ]
  },
  {
   "cell_type": "markdown",
   "metadata": {},
   "source": [
    "### Bayes' theorem\n",
    "\n",
    "Let $U$, $V$ be two events which can happen or not. \n",
    "The conditional probability of $V$ given that $U$ has already happened is\n",
    "\n",
    "$$P(V|U) \\equiv \\frac{P(U\\cap V)}{P(U)}.$$\n",
    "\n",
    "So we can write\n",
    "\n",
    "$$P(V|U)P(U) = P(U\\cap V) = P(U|V)P(V)\\ \\ \\ \\ \\text{(Bayes' theorem).}$$\n",
    "\n",
    "Following the example of Section 1, say that $U$ is the event `x = 1`, $V$ the event `coin = A`. \n",
    "Then we can write\n",
    "\n",
    "$$P(\\mathrm{coin}=\\mathrm{A}|x=1)P(x=1) = P(x=1|\\mathrm{coin}=\\mathrm{A})P(\\mathrm{coin}=\\mathrm{A}).$$\n",
    "\n",
    "In the case where we indeed observe `x = 1`, $P(x=1)$ becomes a certainty. \n",
    "So $P(x=1)=1$. \n",
    "Thats means, we can write under a simplified format:\n",
    "\n",
    "$$P(\\mathrm{A}|1) = P(1|\\mathrm{A})P(\\mathrm{A}).$$"
   ]
  },
  {
   "cell_type": "markdown",
   "metadata": {},
   "source": [
    "### Interpretation\n",
    "\n",
    "What do different terms mean? Well, the interpretation is the following:\n",
    "- $P(\\mathrm{A})$: the initial guess of A's probability,\n",
    "- $P(1|\\mathrm{A})$: how probable A yields 1,\n",
    "- $P(\\mathrm{A}|1)$: the adjusted A's probability given the knowledge of `x = 1`.\n",
    "\n",
    "In Question 1.7, the initial guess is $P(\\mathrm{A})=1/3$, $P(\\mathrm{B})=2/3$. \n",
    "Since A and B don't yield 1 with the same probability, A's probability is then adjusted, and become $P(\\mathrm{A}|1)\\neq 1/3$.\n",
    "\n",
    "Let's leave our coin-throwing example and consider the general case.\n",
    "If we consider `x` as data in general, `coin` as parameters in general, then the above equation can be written as:\n",
    "\n",
    "$$P(\\mathrm{parameter}|\\mathrm{data}) = P(\\mathrm{data}|\\mathrm{parameter})P(\\mathrm{parameter}).$$\n",
    "\n",
    "More formally, the names of the different terms are:\n",
    "- $P(\\mathrm{parameter})$: the _prior_, initial guess,\n",
    "- $P(\\mathrm{data}|\\mathrm{parameter})$: the _model_, distribution of data under a given parameter,\n",
    "- $P(\\mathrm{parameter}|\\mathrm{data})$: the _posterior_, adjusted distribution of parameter given data."
   ]
  },
  {
   "cell_type": "markdown",
   "metadata": {},
   "source": [
    "### Likelihood\n",
    "\n",
    "Note that the model is a distribution of **data**, while the prior and posterior are of **parameter**. \n",
    "They are fundamentally different things. \n",
    "However, once data are observed, they are fixed and $P(\\mathrm{data}|\\mathrm{parameter})$ becomes _de facto_ a function of parameter. \n",
    "Thus, we define a new quantity called the _likelihood_ as:\n",
    "\n",
    "$$\\mathcal{L}(\\mathrm{parameter}|\\mathrm{data}) \\equiv P(\\mathrm{data}|\\mathrm{parameter}).$$\n",
    "\n",
    "In this way, the above equation can be considered fully as a relation in the parameter space:\n",
    "\n",
    "$$P(\\mathrm{parameter}|\\mathrm{data}) = \\mathcal{L}(\\mathrm{parameter}|\\mathrm{data})P(\\mathrm{parameter}).$$\n",
    "\n",
    "So the interpretation is very simple now. \n",
    "The prior knowledge can be adjusted by the likelihood (data provided) and yields the posterior knowledge.\n",
    "Let's move on to the next section to get more familiar with this notion."
   ]
  }
 ],
 "metadata": {
  "kernelspec": {
   "display_name": "Python 3 (ipykernel)",
   "language": "python",
   "name": "python3"
  },
  "language_info": {
   "codemirror_mode": {
    "name": "ipython",
    "version": 3
   },
   "file_extension": ".py",
   "mimetype": "text/x-python",
   "name": "python",
   "nbconvert_exporter": "python",
   "pygments_lexer": "ipython3",
   "version": "3.10.6"
  }
 },
 "nbformat": 4,
 "nbformat_minor": 4
}
