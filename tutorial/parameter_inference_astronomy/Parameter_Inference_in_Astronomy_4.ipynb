{
 "cells": [
  {
   "cell_type": "markdown",
   "metadata": {},
   "source": [
    "# Parameter Inference in Astronomy"
   ]
  },
  {
   "cell_type": "markdown",
   "metadata": {},
   "source": [
    "Below we load some handy libraries for our tutorial and configure a bit to make plots prettier."
   ]
  },
  {
   "cell_type": "code",
   "execution_count": 1,
   "metadata": {},
   "outputs": [],
   "source": [
    "## Import packages\n",
    "import numpy as np\n",
    "import scipy.stats as stats\n",
    "import matplotlib.pyplot as plt\n",
    "\n",
    "## Matplotlib settings\n",
    "plt.rcParams['lines.linewidth'] = 1.5\n",
    "plt.rcParams['font.size'] = 16\n",
    "plt.rcParams['axes.grid'] = True\n",
    "plt.rcParams['xtick.direction'] = 'in'\n",
    "plt.rcParams['ytick.direction'] = 'in'\n",
    "plt.rcParams['grid.alpha'] = 0.4\n",
    "plt.rcParams['figure.figsize'] = (8, 8)"
   ]
  },
  {
   "cell_type": "markdown",
   "metadata": {},
   "source": [
    "## 4. Mass-concentration relation of halos: an exercise\n",
    "\n",
    "I have set up a new problem on dark-matter halos with data.\n",
    "It's time for you to practice parameter constraints by yourself now!\n",
    "\n",
    "### Context\n",
    "\n",
    "Dark-matter halos are bound structures of matters due to gravitational attractions.\n",
    "These structures can be very massive to induce significant gravitational lensing effects.\n",
    "\n",
    "The mass profiles of halos are well-described by the Navarro-Frenk-White model,\n",
    "in which the halo shapes can be described by only 2 parameters: the mass $M$ and the concentration $c$,\n",
    "which we assume to be independent from cosmology.\n",
    "From simulations, researchers suggest that despite a large scatter, $c$ seems to depend on $M$.\n",
    "Thus, a _mass-concentration relation_ $c(M)$ is needed and this is what we are going to study here.\n",
    "\n",
    "The data are contained in the ASCII file `data/halo_cat.dat`.\n",
    "They are adapted from a [halo catalogue](http://www.benediktdiemer.com/data/halo-catalogs/) \n",
    "of the Erebos $N$-body simulations by Benedikt Diemer.\n",
    "\n",
    "### Mass-concentration relation\n",
    "\n",
    "The mass-concentration relation is usally written under the following form:\n",
    "\n",
    "$$c(M,z) = \\frac{A}{(1+z)^C}\\bigg(\\frac{M}{M_\\mathrm{ref}}\\bigg)^B,$$\n",
    "\n",
    "where $z$ is the redshift, $M_\\mathrm{ref}$ is a chosen reference mass, and $A$, $B$, and $C$ are parameters.\n",
    "Here we are going to ignore the redshift dependence and set the reference mass to $10^{14} [M_\\odot/h]$.\n",
    "In this case, the $M$-$c$ relation can be written as:\n",
    "\n",
    "$$\\log c = \\alpha (\\log M -14) + \\beta,$$\n",
    "\n",
    "where $\\alpha$ and $\\beta$ are parameters. \n",
    "The equation above is a simple linear relation,\n",
    "so the best-fit $\\alpha$ and $\\beta$ can easily be obtained from linear regression.\n",
    "However, we want to obtain estimation errors on $\\alpha$ and $\\beta$ as well.\n",
    "That's why we apply parameter inference here.\n",
    "\n",
    "### Analysis guideline\n",
    "\n",
    "Our objective is to constrain $\\alpha$ and $\\beta$ jointly.\n",
    "We don't plan to do so object-by-object, but mass bin-by-mass bin.\n",
    "The expected result is a corner plot similar to Question 3.9.\n",
    "\n",
    "If you need them, here are some hints:\n",
    "- Construct points of $(\\log M, \\log c)$ from the catalogue\n",
    "- Determine the scatter of $\\log c$ in each $\\log M$ bin\n",
    "- Think about what the observed vector, model vector, and covariance are. \n",
    "- Evaluate the Gaussian likelihood on a chosen grid\n",
    "- Determine quantities required for credible intervals and contours\n",
    "- Draw the constraints\n",
    "\n",
    "**TODO: Obtain a corner plot for $\\alpha$ and $\\beta$ joint constraints**"
   ]
  },
  {
   "cell_type": "code",
   "execution_count": 2,
   "metadata": {},
   "outputs": [],
   "source": [
    "## TODO: Add your code here for joint constraints\n",
    "\n",
    "\n",
    "\n",
    "\n",
    "\n",
    "## End of TODO"
   ]
  }
 ],
 "metadata": {
  "kernelspec": {
   "display_name": "Python 3 (ipykernel)",
   "language": "python",
   "name": "python3"
  },
  "language_info": {
   "codemirror_mode": {
    "name": "ipython",
    "version": 3
   },
   "file_extension": ".py",
   "mimetype": "text/x-python",
   "name": "python",
   "nbconvert_exporter": "python",
   "pygments_lexer": "ipython3",
   "version": "3.10.6"
  }
 },
 "nbformat": 4,
 "nbformat_minor": 4
}
